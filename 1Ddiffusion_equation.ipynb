{
 "cells": [
  {
   "cell_type": "markdown",
   "metadata": {},
   "source": [
    "### **Example Problem: Heat Diffusion in a Bar**\n",
    "\n",
    "Consider 1D steady-state diffusion at heat in a bar. The bar has a length of $5m$, a cross-sectional area of $0.1m^2$ and a thermal conductivity of $100W/mK$. The temperature at the left end of the bar $(T_A)$ is $100^{\\circ}C$ and the temperature at the right end $(T_B)$ is $200^{\\circ}C$. There is a constant heat source of $1000W/m^3$ in the bar. The temperature field in the bar is governed by the 1D steady-state diffusion equation.\n",
    "\n",
    "\n",
    "\\begin{equation}\n",
    "\\frac{d}{dx}\\left(k\\frac{dT}{dx}\\right) + S = 0\n",
    "\\end{equation}\n"
   ]
  },
  {
   "cell_type": "code",
   "execution_count": 2,
   "metadata": {},
   "outputs": [],
   "source": [
    "#Required modules for matrices and plotting\n",
    "import numpy\n",
    "import matplotlib.pyplot as plt\n",
    "\n",
    "#Makes matplotlib plots appear in the notebook instead of a separate window\n",
    "%matplotlib inline"
   ]
  },
  {
   "cell_type": "code",
   "execution_count": 3,
   "metadata": {},
   "outputs": [
    {
     "name": "stdout",
     "output_type": "stream",
     "text": [
      "The face coordinates array: [0. 1. 2. 3. 4. 5.]\n",
      "The cell centroids array:  [0.5 1.5 2.5 3.5 4.5]\n"
     ]
    }
   ],
   "source": [
    "#Given values\n",
    "cond = 100\n",
    "bar_length = 5\n",
    "temp_left = 100\n",
    "temp_right = 200\n",
    "area = 0.1\n",
    "heat_source = 1000\n",
    "\n",
    "#Defining some variables\n",
    "ncell = 5\n",
    "\n",
    "#Defining coordinates for cell faces\n",
    "nfaces = numpy.linspace(0, bar_length, ncell+1)\n",
    "\n",
    "#Printing the face coordinate array\n",
    "print (\"The face coordinates array:\",nfaces)\n",
    "\n",
    "#Defining coordinates for cell centroids\n",
    "ncentroids = 0.5 * (nfaces[1:] + nfaces[0:-1])\n",
    "\n",
    "#Printing the cell centroids array\n",
    "print (\"The cell centroids array: \",ncentroids)\n",
    "\n",
    "#Calculating length of each cell\n",
    "cell_length = nfaces[1:] - nfaces[0:-1]\n",
    "\n",
    "#Calculating distance between each cell centroid\n",
    "dcentroids = ncentroids[1:] - ncentroids[0:-1]\n",
    "\n",
    "#Boundary cells difference from the wall\n",
    "dLeft = (ncentroids[0] - nfaces[0])   \n",
    "dRight = (nfaces[-1] - ncentroids[-1])\n",
    "\n",
    "#Appending boundary values\n",
    "dcentroids = numpy.hstack([dLeft,dcentroids,dRight])\n",
    "\n",
    "cell_volume = area*cell_length\n",
    "\n",
    "\n",
    "\n",
    "\n",
    "#Calculating the matrix coefficients\n",
    "\n",
    "#Diffusive heat flux\n",
    "DA = area*numpy.divide(cond, dcentroids)\n",
    "\n",
    "#Su and Sp are the heat source terms\n",
    "Sp = numpy.zeros(ncell)      \n",
    "\n",
    "Sp[0] = -numpy.copy(DA[0])   #copy vs deepcopy?\n",
    "Sp[-1] = -numpy.copy(DA[-1])\n",
    "\n",
    "Su = heat_source*cell_volume\n",
    "\n",
    "#Values for the boundary cells\n",
    "Su[0] = Su[0] + numpy.copy(DA[0])*temp_left  \n",
    "Su[-1] = Su[-1] + numpy.copy(DA[-1])*temp_right\n",
    "\n",
    "al = numpy.copy(DA[0:-1]) \n",
    "\n",
    "ar = numpy.copy(DA[1:])\n",
    "\n",
    "al[0] = 0\n",
    "ar[-1] = 0\n",
    "\n",
    "#Finally calculating the ap coefficient\n",
    "ap = numpy.copy(ar) + numpy.copy(al) - numpy.copy(Sp) \n",
    "#print (ap)"
   ]
  },
  {
   "cell_type": "markdown",
   "metadata": {},
   "source": [
    "### Creating and solving the matrix"
   ]
  },
  {
   "cell_type": "code",
   "execution_count": 14,
   "metadata": {},
   "outputs": [],
   "source": [
    "matrix_A = numpy.zeros([ncell, ncell])\n",
    "vector_B = numpy.zeros(ncell)\n",
    "\n",
    "#Filling the coefficients..(NOT THE MOST EFFICIENT METHOD!!)\n",
    "\n",
    "for i in range(ncell):\n",
    "\n",
    "#for left boundary cell\n",
    "    if  i == 0:\n",
    "        matrix_A[i,i] = ap[i]\n",
    "        #print (ap[i])\n",
    "        matrix_A[i, i+1] = -1*ar[i]\n",
    "        #print (ar[i])\n",
    "\n",
    "#for right boundary cell\n",
    "    elif i == ncell-1:\n",
    "        matrix_A[i,i] = ap[i]\n",
    "        matrix_A[i,i-1] = -1*al[i]\n",
    "        \n",
    "#for interior cells\n",
    "    else:\n",
    "        matrix_A[i,i] = ap[i]\n",
    "        matrix_A[i,i+1] = -1*ar[i]\n",
    "        matrix_A[i,i-1] = -1*al[i]\n",
    "        \n",
    "#source term vector       \n",
    "    vector_B[i] = Su[i]"
   ]
  },
  {
   "cell_type": "markdown",
   "metadata": {},
   "source": [
    "### Plotting and comparison with analytical solution"
   ]
  },
  {
   "cell_type": "code",
   "execution_count": 16,
   "metadata": {},
   "outputs": [
    {
     "data": {
      "text/plain": [
       "<matplotlib.legend.Legend at 0x7687ee0>"
      ]
     },
     "execution_count": 16,
     "metadata": {},
     "output_type": "execute_result"
    },
    {
     "data": {
      "image/png": "[encoded data removed]",
      "text/plain": [
       "<Figure size 432x288 with 1 Axes>"
      ]
     },
     "metadata": {
      "needs_background": "light"
     },
     "output_type": "display_data"
    }
   ],
   "source": [
    "#Solving\n",
    "vector_T = numpy.linalg.solve(matrix_A, vector_B)\n",
    "#print (vector_T)\n",
    "\n",
    "#Solving Analytically\n",
    "\n",
    "x_Analytical = numpy.linspace(0,bar_length,100)\n",
    "T_Analytical = temp_left + x_Analytical * ((temp_right - temp_left) / bar_length) + \\         #continuation\n",
    "(heat_source*x_Analytical)*(bar_length*numpy.ones(len(x_Analytical)) - x_Analytical)/(2*cond) #array creation for subtraction\n",
    "\n",
    "#Temperature values on Y-axis\n",
    "temp_plotting = numpy.hstack([temp_left, numpy.copy(vector_T), temp_right])\n",
    "\n",
    "#Bar length on X-axis\n",
    "x_plotting = numpy.hstack([nfaces[0],numpy.copy(ncentroids),nfaces[-1]])\n",
    "\n",
    "plt.plot(x_plotting,temp_plotting,'bo', marker = 'o', label = 'CFD')\n",
    "plt.plot(x_Analytical,T_Analytical, 'k--', label = 'Analytical')\n",
    "plt.title(\"Temperature variation along the 1D bar\")\n",
    "plt.xlabel(\"$[X(m)]$\")\n",
    "plt.ylabel(\"$[T^{\\circ}C]$\")\n",
    "plt.legend(loc='best')"
   ]
  }
 ],
 "metadata": {
  "kernelspec": {
   "display_name": "Python 3",
   "language": "python",
   "name": "python3"
  },
  "language_info": {
   "codemirror_mode": {
    "name": "ipython",
    "version": 3
   },
   "file_extension": ".py",
   "mimetype": "text/x-python",
   "name": "python",
   "nbconvert_exporter": "python",
   "pygments_lexer": "ipython3",
   "version": "3.8.5"
  }
 },
 "nbformat": 4,
 "nbformat_minor": 4
}
